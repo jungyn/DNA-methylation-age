{
 "cells": [
  {
   "cell_type": "markdown",
   "id": "7a8fa390",
   "metadata": {},
   "source": [
    "# preprocessing"
   ]
  },
  {
   "cell_type": "markdown",
   "id": "85f79540",
   "metadata": {},
   "source": [
    "## 압축 해제"
   ]
  },
  {
   "cell_type": "code",
   "execution_count": 32,
   "id": "b4ff4f8c",
   "metadata": {
    "ExecuteTime": {
     "end_time": "2023-08-27T12:39:51.147230Z",
     "start_time": "2023-08-27T12:39:51.119958Z"
    }
   },
   "outputs": [],
   "source": [
    "#서버에 올리기 위해 sample_data들을 압축해서 올림. \n",
    "\n",
    "import zipfile #압축 해제 \n",
    "\n",
    "zip_ref = zipfile.ZipFile(\"Sample_data.zip\", 'r') #파일이름\n",
    "zip_ref.extractall(\"./\") #현재경로로 지정 \n",
    "zip_ref.close() "
   ]
  },
  {
   "cell_type": "markdown",
   "id": "68e7becf",
   "metadata": {},
   "source": [
    "## 파일 불러오기 "
   ]
  },
  {
   "cell_type": "code",
   "execution_count": 35,
   "id": "a8d44241",
   "metadata": {
    "ExecuteTime": {
     "end_time": "2023-08-27T12:39:54.039029Z",
     "start_time": "2023-08-27T12:39:53.994258Z"
    }
   },
   "outputs": [
    {
     "ename": "UnicodeDecodeError",
     "evalue": "'cp949' codec can't decode byte 0xef in position 1338: illegal multibyte sequence",
     "output_type": "error",
     "traceback": [
      "\u001b[1;31m---------------------------------------------------------------------------\u001b[0m",
      "\u001b[1;31mUnicodeDecodeError\u001b[0m                        Traceback (most recent call last)",
      "Cell \u001b[1;32mIn[35], line 15\u001b[0m\n\u001b[0;32m     13\u001b[0m \u001b[38;5;28;01mwith\u001b[39;00m \u001b[38;5;28mopen\u001b[39m(gsm_file, \u001b[38;5;124m'\u001b[39m\u001b[38;5;124mr\u001b[39m\u001b[38;5;124m'\u001b[39m) \u001b[38;5;28;01mas\u001b[39;00m f:\n\u001b[0;32m     14\u001b[0m     data \u001b[38;5;241m=\u001b[39m {}\n\u001b[1;32m---> 15\u001b[0m     \u001b[38;5;28;01mfor\u001b[39;00m line \u001b[38;5;129;01min\u001b[39;00m f:\n\u001b[0;32m     16\u001b[0m         \u001b[38;5;28;01mif\u001b[39;00m line\u001b[38;5;241m.\u001b[39mstartswith(\u001b[38;5;124m\"\u001b[39m\u001b[38;5;124m!dataset_table_begin\u001b[39m\u001b[38;5;124m\"\u001b[39m):\n\u001b[0;32m     17\u001b[0m             columns \u001b[38;5;241m=\u001b[39m \u001b[38;5;28mnext\u001b[39m(f)\u001b[38;5;241m.\u001b[39mstrip()\u001b[38;5;241m.\u001b[39msplit(\u001b[38;5;124m'\u001b[39m\u001b[38;5;130;01m\\t\u001b[39;00m\u001b[38;5;124m'\u001b[39m)\n",
      "\u001b[1;31mUnicodeDecodeError\u001b[0m: 'cp949' codec can't decode byte 0xef in position 1338: illegal multibyte sequence"
     ]
    }
   ],
   "source": [
    "import pandas as pd\n",
    "import os\n",
    "\n",
    "folder_path = \"./Sample_data\" \n",
    "\n",
    "gsm_files = []\n",
    "for file in os.listdir(folder_path):\n",
    "    if file.endswith(\".soft\"):\n",
    "        gsm_files.append(os.path.join(folder_path, file))\n",
    "\n",
    "all_data = []\n",
    "for gsm_file in gsm_files:\n",
    "    with open(gsm_file, 'r') as f:\n",
    "        data = {}\n",
    "        for line in f:\n",
    "            if line.startswith(\"!dataset_table_begin\"):\n",
    "                columns = next(f).strip().split('\\t')\n",
    "                data = {col:[] for col in columns}\n",
    "                for row in f:\n",
    "                    if row.startswith(\"!dataset_table_end\"):\n",
    "                        break\n",
    "                    values = row.strip().split('\\t')\n",
    "                    for col, val in zip(columns, values):\n",
    "                        data[col].append(val)\n",
    "        all_data.append(pd.DataFrame(data))\n",
    "\n",
    "df = pd.concat(all_data, axis=0, ignore_index=True, encoding='cp949')\n"
   ]
  },
  {
   "cell_type": "markdown",
   "id": "51cb46bb",
   "metadata": {},
   "source": [
    "## 데이터 프레임화 "
   ]
  },
  {
   "cell_type": "code",
   "execution_count": null,
   "id": "ea4ba999",
   "metadata": {
    "ExecuteTime": {
     "end_time": "2023-08-27T12:39:56.448775Z",
     "start_time": "2023-08-27T12:39:56.423263Z"
    }
   },
   "outputs": [],
   "source": [
    "import os\n",
    "import csv\n",
    "\n",
    "file_path = \"./Sample_data\" \n",
    "file_path2 = \"./\"\n",
    "\n",
    "def extract_characteristics_as_dict_v3(file_path):\n",
    "    \"\"\"Extract characteristics handling potential missing ':' in characteristic value\"\"\"\n",
    "    values_dict = {}\n",
    "    with open(file_path, 'r') as file:\n",
    "        for line in file:\n",
    "            if line.startswith('!Sample_characteristics_ch1'):\n",
    "                _, characteristic = line.split('=', 1)\n",
    "                if ':' in characteristic:\n",
    "                    key, value = characteristic.split(':', 1)\n",
    "                    values_dict[key.strip()] = value.strip()\n",
    "                else:\n",
    "                    values_dict[characteristic.strip()] = ' '\n",
    "    return values_dict\n",
    "\n",
    "def process_directory_for_characteristics_v4(directory_path, output_csv_path):\n",
    "    combined_data = {} \n",
    "    \n",
    "    for filename in os.listdir(directory_path):\n",
    "        if filename.endswith('.soft'):\n",
    "            file_path = os.path.join(directory_path, filename)\n",
    "            file_values_dict = extract_characteristics_as_dict_v3(file_path)\n",
    "            combined_data[filename] = file_values_dict\n",
    "    \n",
    "    all_characteristics = set()\n",
    "    for file_values in combined_data.values():\n",
    "        all_characteristics.update(file_values.keys())\n",
    "    \n",
    "    with open(output_csv_path, 'a', newline='') as csvfile:  \n",
    "        writer = csv.writer(csvfile)\n",
    "        writer.writerow(['Filename'] + list(all_characteristics))  # Header\n",
    "        \n",
    "        for filename, char_values in combined_data.items():\n",
    "            row = [filename]\n",
    "            for char in all_characteristics:\n",
    "                row.append(char_values.get(char, ' '))\n",
    "            writer.writerow(row)\n",
    "\n",
    "\n",
    "# process_directory_for_characteristics\n",
    "process_directory_for_characteristics_v4(file_path, \"sample_data.csv\")"
   ]
  },
  {
   "cell_type": "code",
   "execution_count": null,
   "id": "7605a045",
   "metadata": {},
   "outputs": [],
   "source": []
  }
 ],
 "metadata": {
  "kernelspec": {
   "display_name": "Python 3 (ipykernel)",
   "language": "python",
   "name": "python3"
  },
  "language_info": {
   "codemirror_mode": {
    "name": "ipython",
    "version": 3
   },
   "file_extension": ".py",
   "mimetype": "text/x-python",
   "name": "python",
   "nbconvert_exporter": "python",
   "pygments_lexer": "ipython3",
   "version": "3.11.3"
  },
  "toc": {
   "base_numbering": 1,
   "nav_menu": {},
   "number_sections": true,
   "sideBar": true,
   "skip_h1_title": false,
   "title_cell": "Table of Contents",
   "title_sidebar": "Contents",
   "toc_cell": false,
   "toc_position": {},
   "toc_section_display": true,
   "toc_window_display": false
  },
  "varInspector": {
   "cols": {
    "lenName": 16,
    "lenType": 16,
    "lenVar": 40
   },
   "kernels_config": {
    "python": {
     "delete_cmd_postfix": "",
     "delete_cmd_prefix": "del ",
     "library": "var_list.py",
     "varRefreshCmd": "print(var_dic_list())"
    },
    "r": {
     "delete_cmd_postfix": ") ",
     "delete_cmd_prefix": "rm(",
     "library": "var_list.r",
     "varRefreshCmd": "cat(var_dic_list()) "
    }
   },
   "types_to_exclude": [
    "module",
    "function",
    "builtin_function_or_method",
    "instance",
    "_Feature"
   ],
   "window_display": false
  }
 },
 "nbformat": 4,
 "nbformat_minor": 5
}
