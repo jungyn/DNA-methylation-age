{
 "cells": [
  {
   "cell_type": "code",
   "execution_count": 1,
   "id": "20f106ef",
   "metadata": {},
   "outputs": [
    {
     "name": "stdout",
     "output_type": "stream",
     "text": [
      "Requirement already satisfied: numpy in c:\\users\\jyuma\\anaconda3\\lib\\site-packages (1.24.3)\n",
      "Requirement already satisfied: scipy in c:\\users\\jyuma\\anaconda3\\lib\\site-packages (1.10.1)\n",
      "Requirement already satisfied: numpy<1.27.0,>=1.19.5 in c:\\users\\jyuma\\anaconda3\\lib\\site-packages (from scipy) (1.24.3)\n",
      "Requirement already satisfied: pandas in c:\\users\\jyuma\\anaconda3\\lib\\site-packages (1.5.3)\n",
      "Requirement already satisfied: python-dateutil>=2.8.1 in c:\\users\\jyuma\\anaconda3\\lib\\site-packages (from pandas) (2.8.2)\n",
      "Requirement already satisfied: pytz>=2020.1 in c:\\users\\jyuma\\anaconda3\\lib\\site-packages (from pandas) (2022.7)\n",
      "Requirement already satisfied: numpy>=1.21.0 in c:\\users\\jyuma\\anaconda3\\lib\\site-packages (from pandas) (1.24.3)\n",
      "Requirement already satisfied: six>=1.5 in c:\\users\\jyuma\\anaconda3\\lib\\site-packages (from python-dateutil>=2.8.1->pandas) (1.16.0)\n",
      "Requirement already satisfied: matplotlib in c:\\users\\jyuma\\anaconda3\\lib\\site-packages (3.7.1)\n",
      "Requirement already satisfied: contourpy>=1.0.1 in c:\\users\\jyuma\\anaconda3\\lib\\site-packages (from matplotlib) (1.0.5)\n",
      "Requirement already satisfied: cycler>=0.10 in c:\\users\\jyuma\\anaconda3\\lib\\site-packages (from matplotlib) (0.11.0)\n",
      "Requirement already satisfied: fonttools>=4.22.0 in c:\\users\\jyuma\\anaconda3\\lib\\site-packages (from matplotlib) (4.25.0)\n",
      "Requirement already satisfied: kiwisolver>=1.0.1 in c:\\users\\jyuma\\anaconda3\\lib\\site-packages (from matplotlib) (1.4.4)\n",
      "Requirement already satisfied: numpy>=1.20 in c:\\users\\jyuma\\anaconda3\\lib\\site-packages (from matplotlib) (1.24.3)\n",
      "Requirement already satisfied: packaging>=20.0 in c:\\users\\jyuma\\anaconda3\\lib\\site-packages (from matplotlib) (23.0)\n",
      "Requirement already satisfied: pillow>=6.2.0 in c:\\users\\jyuma\\anaconda3\\lib\\site-packages (from matplotlib) (9.4.0)\n",
      "Requirement already satisfied: pyparsing>=2.3.1 in c:\\users\\jyuma\\anaconda3\\lib\\site-packages (from matplotlib) (3.0.9)\n",
      "Requirement already satisfied: python-dateutil>=2.7 in c:\\users\\jyuma\\anaconda3\\lib\\site-packages (from matplotlib) (2.8.2)\n",
      "Requirement already satisfied: six>=1.5 in c:\\users\\jyuma\\anaconda3\\lib\\site-packages (from python-dateutil>=2.7->matplotlib) (1.16.0)\n",
      "Requirement already satisfied: seaborn in c:\\users\\jyuma\\anaconda3\\lib\\site-packages (0.12.2)\n",
      "Requirement already satisfied: numpy!=1.24.0,>=1.17 in c:\\users\\jyuma\\anaconda3\\lib\\site-packages (from seaborn) (1.24.3)\n",
      "Requirement already satisfied: pandas>=0.25 in c:\\users\\jyuma\\anaconda3\\lib\\site-packages (from seaborn) (1.5.3)\n",
      "Requirement already satisfied: matplotlib!=3.6.1,>=3.1 in c:\\users\\jyuma\\anaconda3\\lib\\site-packages (from seaborn) (3.7.1)\n",
      "Requirement already satisfied: contourpy>=1.0.1 in c:\\users\\jyuma\\anaconda3\\lib\\site-packages (from matplotlib!=3.6.1,>=3.1->seaborn) (1.0.5)\n",
      "Requirement already satisfied: cycler>=0.10 in c:\\users\\jyuma\\anaconda3\\lib\\site-packages (from matplotlib!=3.6.1,>=3.1->seaborn) (0.11.0)\n",
      "Requirement already satisfied: fonttools>=4.22.0 in c:\\users\\jyuma\\anaconda3\\lib\\site-packages (from matplotlib!=3.6.1,>=3.1->seaborn) (4.25.0)\n",
      "Requirement already satisfied: kiwisolver>=1.0.1 in c:\\users\\jyuma\\anaconda3\\lib\\site-packages (from matplotlib!=3.6.1,>=3.1->seaborn) (1.4.4)\n",
      "Requirement already satisfied: packaging>=20.0 in c:\\users\\jyuma\\anaconda3\\lib\\site-packages (from matplotlib!=3.6.1,>=3.1->seaborn) (23.0)\n",
      "Requirement already satisfied: pillow>=6.2.0 in c:\\users\\jyuma\\anaconda3\\lib\\site-packages (from matplotlib!=3.6.1,>=3.1->seaborn) (9.4.0)\n",
      "Requirement already satisfied: pyparsing>=2.3.1 in c:\\users\\jyuma\\anaconda3\\lib\\site-packages (from matplotlib!=3.6.1,>=3.1->seaborn) (3.0.9)\n",
      "Requirement already satisfied: python-dateutil>=2.7 in c:\\users\\jyuma\\anaconda3\\lib\\site-packages (from matplotlib!=3.6.1,>=3.1->seaborn) (2.8.2)\n",
      "Requirement already satisfied: pytz>=2020.1 in c:\\users\\jyuma\\anaconda3\\lib\\site-packages (from pandas>=0.25->seaborn) (2022.7)\n",
      "Requirement already satisfied: six>=1.5 in c:\\users\\jyuma\\anaconda3\\lib\\site-packages (from python-dateutil>=2.7->matplotlib!=3.6.1,>=3.1->seaborn) (1.16.0)\n"
     ]
    }
   ],
   "source": [
    "#필요시 설치 목록 \n",
    "!pip install numpy\n",
    "!pip install scipy\n",
    "!pip install pandas\n",
    "!pip install matplotlib\n",
    "!pip install seaborn"
   ]
  },
  {
   "cell_type": "code",
   "execution_count": 7,
   "id": "ef463608",
   "metadata": {
    "ExecuteTime": {
     "end_time": "2023-08-26T20:39:07.377196Z",
     "start_time": "2023-08-26T20:39:07.062945Z"
    }
   },
   "outputs": [],
   "source": [
    "import pandas as pd \n",
    "import matplotlib.pyplot as plt \n",
    "import seaborn as sns"
   ]
  },
  {
   "cell_type": "markdown",
   "id": "25bf8ccc",
   "metadata": {},
   "source": [
    "# 예측된 데이터 호출"
   ]
  },
  {
   "cell_type": "code",
   "execution_count": 8,
   "id": "4e332256",
   "metadata": {
    "ExecuteTime": {
     "end_time": "2023-08-26T20:30:52.633499Z",
     "start_time": "2023-08-26T20:30:52.620834Z"
    }
   },
   "outputs": [],
   "source": [
    "df = pd.read_csv('predicted(lasso).csv')"
   ]
  },
  {
   "cell_type": "code",
   "execution_count": 9,
   "id": "ca0660ef",
   "metadata": {
    "ExecuteTime": {
     "end_time": "2023-08-26T20:30:54.413478Z",
     "start_time": "2023-08-26T20:30:54.389142Z"
    }
   },
   "outputs": [
    {
     "data": {
      "text/html": [
       "<div>\n",
       "<style scoped>\n",
       "    .dataframe tbody tr th:only-of-type {\n",
       "        vertical-align: middle;\n",
       "    }\n",
       "\n",
       "    .dataframe tbody tr th {\n",
       "        vertical-align: top;\n",
       "    }\n",
       "\n",
       "    .dataframe thead th {\n",
       "        text-align: right;\n",
       "    }\n",
       "</style>\n",
       "<table border=\"1\" class=\"dataframe\">\n",
       "  <thead>\n",
       "    <tr style=\"text-align: right;\">\n",
       "      <th></th>\n",
       "      <th>ProbeID</th>\n",
       "      <th>natural.killer.cells</th>\n",
       "      <th>Sex</th>\n",
       "      <th>cumulative.life.stress</th>\n",
       "      <th>treatment.for.anxiety.disorder</th>\n",
       "      <th>personal.life.stress</th>\n",
       "      <th>body.mass.index</th>\n",
       "      <th>treatment.for.posttraumatic.stress.disorder</th>\n",
       "      <th>age</th>\n",
       "      <th>kreek.mchugh.schluger.kellogg.scale.score.for.current.tobacco.use</th>\n",
       "      <th>...</th>\n",
       "      <th>granulocytes</th>\n",
       "      <th>current.stress</th>\n",
       "      <th>kreek.mchugh.schluger.kellogg.scale.score.for.current.cocaine.use</th>\n",
       "      <th>childhood.sexual.physical.abuse.moderate.to.extreme</th>\n",
       "      <th>treatment</th>\n",
       "      <th>cell.line</th>\n",
       "      <th>tissue</th>\n",
       "      <th>treatment.for.bipolar.disorder</th>\n",
       "      <th>treatment.for.depression</th>\n",
       "      <th>DNAmAge_lasso</th>\n",
       "    </tr>\n",
       "  </thead>\n",
       "  <tbody>\n",
       "    <tr>\n",
       "      <th>0</th>\n",
       "      <td>GSM1946540</td>\n",
       "      <td>0.03950</td>\n",
       "      <td>Female</td>\n",
       "      <td>--</td>\n",
       "      <td>--</td>\n",
       "      <td>--</td>\n",
       "      <td>17.78569837</td>\n",
       "      <td>Yes</td>\n",
       "      <td>38</td>\n",
       "      <td>10</td>\n",
       "      <td>...</td>\n",
       "      <td>0.70000</td>\n",
       "      <td>--</td>\n",
       "      <td>0</td>\n",
       "      <td>Yes</td>\n",
       "      <td></td>\n",
       "      <td></td>\n",
       "      <td>whole Blood</td>\n",
       "      <td>--</td>\n",
       "      <td>Yes</td>\n",
       "      <td>23.723887</td>\n",
       "    </tr>\n",
       "    <tr>\n",
       "      <th>1</th>\n",
       "      <td>GSM1868344</td>\n",
       "      <td>0.09724</td>\n",
       "      <td>Female</td>\n",
       "      <td>10</td>\n",
       "      <td>No</td>\n",
       "      <td>5</td>\n",
       "      <td>20.15979569</td>\n",
       "      <td>No</td>\n",
       "      <td>26</td>\n",
       "      <td></td>\n",
       "      <td>...</td>\n",
       "      <td>0.40365</td>\n",
       "      <td>4</td>\n",
       "      <td></td>\n",
       "      <td>Yes</td>\n",
       "      <td></td>\n",
       "      <td></td>\n",
       "      <td>whole Blood</td>\n",
       "      <td>No</td>\n",
       "      <td>No</td>\n",
       "      <td>47.961063</td>\n",
       "    </tr>\n",
       "    <tr>\n",
       "      <th>2</th>\n",
       "      <td>GSM1868385</td>\n",
       "      <td>0.08086</td>\n",
       "      <td>Male</td>\n",
       "      <td>11</td>\n",
       "      <td>No</td>\n",
       "      <td>8</td>\n",
       "      <td>23.67932809</td>\n",
       "      <td>No</td>\n",
       "      <td>52</td>\n",
       "      <td></td>\n",
       "      <td>...</td>\n",
       "      <td>0.46533</td>\n",
       "      <td>7</td>\n",
       "      <td></td>\n",
       "      <td>No</td>\n",
       "      <td></td>\n",
       "      <td></td>\n",
       "      <td>whole Blood</td>\n",
       "      <td>No</td>\n",
       "      <td>Yes</td>\n",
       "      <td>36.739640</td>\n",
       "    </tr>\n",
       "    <tr>\n",
       "      <th>3</th>\n",
       "      <td>GSM1868177</td>\n",
       "      <td>0.07102</td>\n",
       "      <td>Female</td>\n",
       "      <td>11</td>\n",
       "      <td>Yes</td>\n",
       "      <td>6</td>\n",
       "      <td>41.97368929</td>\n",
       "      <td>No</td>\n",
       "      <td>36</td>\n",
       "      <td></td>\n",
       "      <td>...</td>\n",
       "      <td>0.58992</td>\n",
       "      <td>6</td>\n",
       "      <td></td>\n",
       "      <td>Yes</td>\n",
       "      <td></td>\n",
       "      <td></td>\n",
       "      <td>whole Blood</td>\n",
       "      <td>No</td>\n",
       "      <td>No</td>\n",
       "      <td>53.026931</td>\n",
       "    </tr>\n",
       "    <tr>\n",
       "      <th>4</th>\n",
       "      <td>GSM1868165</td>\n",
       "      <td>0.10973</td>\n",
       "      <td>Female</td>\n",
       "      <td>11</td>\n",
       "      <td>No</td>\n",
       "      <td>8</td>\n",
       "      <td>22.9112426</td>\n",
       "      <td>No</td>\n",
       "      <td>58</td>\n",
       "      <td>7</td>\n",
       "      <td>...</td>\n",
       "      <td>0.46581</td>\n",
       "      <td>5</td>\n",
       "      <td>0</td>\n",
       "      <td>Yes</td>\n",
       "      <td></td>\n",
       "      <td></td>\n",
       "      <td>whole Blood</td>\n",
       "      <td>No</td>\n",
       "      <td></td>\n",
       "      <td>52.494999</td>\n",
       "    </tr>\n",
       "  </tbody>\n",
       "</table>\n",
       "<p>5 rows × 33 columns</p>\n",
       "</div>"
      ],
      "text/plain": [
       "      ProbeID  natural.killer.cells     Sex cumulative.life.stress  \\\n",
       "0  GSM1946540               0.03950  Female                     --   \n",
       "1  GSM1868344               0.09724  Female                     10   \n",
       "2  GSM1868385               0.08086    Male                     11   \n",
       "3  GSM1868177               0.07102  Female                     11   \n",
       "4  GSM1868165               0.10973  Female                     11   \n",
       "\n",
       "  treatment.for.anxiety.disorder personal.life.stress body.mass.index  \\\n",
       "0                             --                   --     17.78569837   \n",
       "1                             No                    5     20.15979569   \n",
       "2                             No                    8     23.67932809   \n",
       "3                            Yes                    6     41.97368929   \n",
       "4                             No                    8      22.9112426   \n",
       "\n",
       "  treatment.for.posttraumatic.stress.disorder  age  \\\n",
       "0                                         Yes   38   \n",
       "1                                          No   26   \n",
       "2                                          No   52   \n",
       "3                                          No   36   \n",
       "4                                          No   58   \n",
       "\n",
       "  kreek.mchugh.schluger.kellogg.scale.score.for.current.tobacco.use  ...  \\\n",
       "0                                                 10                 ...   \n",
       "1                                                                    ...   \n",
       "2                                                                    ...   \n",
       "3                                                                    ...   \n",
       "4                                                  7                 ...   \n",
       "\n",
       "   granulocytes current.stress  \\\n",
       "0       0.70000             --   \n",
       "1       0.40365              4   \n",
       "2       0.46533              7   \n",
       "3       0.58992              6   \n",
       "4       0.46581              5   \n",
       "\n",
       "   kreek.mchugh.schluger.kellogg.scale.score.for.current.cocaine.use  \\\n",
       "0                                                  0                   \n",
       "1                                                                      \n",
       "2                                                                      \n",
       "3                                                                      \n",
       "4                                                  0                   \n",
       "\n",
       "  childhood.sexual.physical.abuse.moderate.to.extreme  treatment cell.line  \\\n",
       "0                                                Yes                         \n",
       "1                                                Yes                         \n",
       "2                                                 No                         \n",
       "3                                                Yes                         \n",
       "4                                                Yes                         \n",
       "\n",
       "        tissue  treatment.for.bipolar.disorder treatment.for.depression  \\\n",
       "0  whole Blood                              --                      Yes   \n",
       "1  whole Blood                              No                       No   \n",
       "2  whole Blood                              No                      Yes   \n",
       "3  whole Blood                              No                       No   \n",
       "4  whole Blood                              No                            \n",
       "\n",
       "  DNAmAge_lasso  \n",
       "0     23.723887  \n",
       "1     47.961063  \n",
       "2     36.739640  \n",
       "3     53.026931  \n",
       "4     52.494999  \n",
       "\n",
       "[5 rows x 33 columns]"
      ]
     },
     "execution_count": 9,
     "metadata": {},
     "output_type": "execute_result"
    }
   ],
   "source": [
    "df.head()"
   ]
  },
  {
   "cell_type": "markdown",
   "id": "367a9196",
   "metadata": {},
   "source": [
    "# EDA및 전처리"
   ]
  },
  {
   "cell_type": "markdown",
   "id": "e5267d5c",
   "metadata": {},
   "source": [
    "## 분포에 필요한 피처 합산"
   ]
  },
  {
   "cell_type": "code",
   "execution_count": 10,
   "id": "37c4a4c1",
   "metadata": {
    "ExecuteTime": {
     "end_time": "2023-08-26T20:34:57.036961Z",
     "start_time": "2023-08-26T20:34:57.031188Z"
    }
   },
   "outputs": [
    {
     "name": "stderr",
     "output_type": "stream",
     "text": [
      "C:\\Users\\jyuma\\AppData\\Local\\Temp\\ipykernel_7472\\4008888818.py:2: FutureWarning: The default value of regex will change from True to False in a future version. In addition, single character regular expressions will *not* be treated as literal strings when regex=True.\n",
      "  df.columns = df.columns.str.replace('.', ' ')\n"
     ]
    }
   ],
   "source": [
    "#컬럼들의 .을 띄어쓰기로 변환\n",
    "df.columns = df.columns.str.replace('.', ' ')"
   ]
  },
  {
   "cell_type": "code",
   "execution_count": 11,
   "id": "a06f5682",
   "metadata": {
    "ExecuteTime": {
     "end_time": "2023-08-26T20:34:59.841402Z",
     "start_time": "2023-08-26T20:34:59.833995Z"
    }
   },
   "outputs": [
    {
     "data": {
      "text/plain": [
       "Index(['ProbeID', 'natural killer cells', 'Sex', 'cumulative life stress',\n",
       "       'treatment for anxiety disorder', 'personal life stress',\n",
       "       'body mass index', 'treatment for posttraumatic stress disorder', 'age',\n",
       "       'kreek mchugh schluger kellogg scale score for current tobacco use',\n",
       "       'dna methylation predicted age', 'network life stress', 'monocytes',\n",
       "       'posttraumatic stress disorder symptom scale total score', 'b cells',\n",
       "       'kreek mchugh schluger kellogg scale score for current alcohol use',\n",
       "       'childhood trauma questionnaire total score', 'cd4 t cells',\n",
       "       'beck depression inventory total score',\n",
       "       'kreek mchugh schluger kellogg scale score for current marijuana use',\n",
       "       'kreek mchugh schluger kellogg scale score for current heroin use',\n",
       "       'cd8 t cells', 'race ethnicity', 'granulocytes', 'current stress',\n",
       "       'kreek mchugh schluger kellogg scale score for current cocaine use',\n",
       "       'childhood sexual physical abuse moderate to extreme', 'treatment',\n",
       "       'cell line', 'tissue', 'treatment for bipolar disorder',\n",
       "       'treatment for depression', 'DNAmAge_lasso'],\n",
       "      dtype='object')"
      ]
     },
     "execution_count": 11,
     "metadata": {},
     "output_type": "execute_result"
    }
   ],
   "source": [
    "df.columns"
   ]
  },
  {
   "cell_type": "code",
   "execution_count": 12,
   "id": "0ca9e3ea",
   "metadata": {
    "ExecuteTime": {
     "end_time": "2023-08-26T20:35:11.938185Z",
     "start_time": "2023-08-26T20:35:11.930582Z"
    }
   },
   "outputs": [],
   "source": [
    "new_df = df[['ProbeID','age','DNAmAge_lasso','Sex','cumulative life stress',\n",
    "       'treatment for anxiety disorder', 'personal life stress','network life stress',\n",
    "       'body mass index', 'treatment for posttraumatic stress disorder',\n",
    "             'beck depression inventory total score','current stress',\n",
    "             'childhood sexual physical abuse moderate to extreme',\n",
    "             'treatment for bipolar disorder','treatment for depression']]\n",
    "             "
   ]
  },
  {
   "cell_type": "code",
   "execution_count": 13,
   "id": "f3c675bb",
   "metadata": {
    "ExecuteTime": {
     "end_time": "2023-08-26T20:35:14.395325Z",
     "start_time": "2023-08-26T20:35:14.384477Z"
    }
   },
   "outputs": [
    {
     "data": {
      "text/html": [
       "<div>\n",
       "<style scoped>\n",
       "    .dataframe tbody tr th:only-of-type {\n",
       "        vertical-align: middle;\n",
       "    }\n",
       "\n",
       "    .dataframe tbody tr th {\n",
       "        vertical-align: top;\n",
       "    }\n",
       "\n",
       "    .dataframe thead th {\n",
       "        text-align: right;\n",
       "    }\n",
       "</style>\n",
       "<table border=\"1\" class=\"dataframe\">\n",
       "  <thead>\n",
       "    <tr style=\"text-align: right;\">\n",
       "      <th></th>\n",
       "      <th>ProbeID</th>\n",
       "      <th>age</th>\n",
       "      <th>DNAmAge_lasso</th>\n",
       "      <th>Sex</th>\n",
       "      <th>cumulative life stress</th>\n",
       "      <th>treatment for anxiety disorder</th>\n",
       "      <th>personal life stress</th>\n",
       "      <th>network life stress</th>\n",
       "      <th>body mass index</th>\n",
       "      <th>treatment for posttraumatic stress disorder</th>\n",
       "      <th>beck depression inventory total score</th>\n",
       "      <th>current stress</th>\n",
       "      <th>childhood sexual physical abuse moderate to extreme</th>\n",
       "      <th>treatment for bipolar disorder</th>\n",
       "      <th>treatment for depression</th>\n",
       "    </tr>\n",
       "  </thead>\n",
       "  <tbody>\n",
       "    <tr>\n",
       "      <th>0</th>\n",
       "      <td>GSM1946540</td>\n",
       "      <td>38</td>\n",
       "      <td>23.723887</td>\n",
       "      <td>Female</td>\n",
       "      <td>--</td>\n",
       "      <td>--</td>\n",
       "      <td>--</td>\n",
       "      <td>--</td>\n",
       "      <td>17.78569837</td>\n",
       "      <td>Yes</td>\n",
       "      <td>31</td>\n",
       "      <td>--</td>\n",
       "      <td>Yes</td>\n",
       "      <td>--</td>\n",
       "      <td>Yes</td>\n",
       "    </tr>\n",
       "    <tr>\n",
       "      <th>1</th>\n",
       "      <td>GSM1868344</td>\n",
       "      <td>26</td>\n",
       "      <td>47.961063</td>\n",
       "      <td>Female</td>\n",
       "      <td>10</td>\n",
       "      <td>No</td>\n",
       "      <td>5</td>\n",
       "      <td>5</td>\n",
       "      <td>20.15979569</td>\n",
       "      <td>No</td>\n",
       "      <td>11</td>\n",
       "      <td>4</td>\n",
       "      <td>Yes</td>\n",
       "      <td>No</td>\n",
       "      <td>No</td>\n",
       "    </tr>\n",
       "    <tr>\n",
       "      <th>2</th>\n",
       "      <td>GSM1868385</td>\n",
       "      <td>52</td>\n",
       "      <td>36.739640</td>\n",
       "      <td>Male</td>\n",
       "      <td>11</td>\n",
       "      <td>No</td>\n",
       "      <td>8</td>\n",
       "      <td>3</td>\n",
       "      <td>23.67932809</td>\n",
       "      <td>No</td>\n",
       "      <td>5</td>\n",
       "      <td>7</td>\n",
       "      <td>No</td>\n",
       "      <td>No</td>\n",
       "      <td>Yes</td>\n",
       "    </tr>\n",
       "    <tr>\n",
       "      <th>3</th>\n",
       "      <td>GSM1868177</td>\n",
       "      <td>36</td>\n",
       "      <td>53.026931</td>\n",
       "      <td>Female</td>\n",
       "      <td>11</td>\n",
       "      <td>Yes</td>\n",
       "      <td>6</td>\n",
       "      <td>5</td>\n",
       "      <td>41.97368929</td>\n",
       "      <td>No</td>\n",
       "      <td>11</td>\n",
       "      <td>6</td>\n",
       "      <td>Yes</td>\n",
       "      <td>No</td>\n",
       "      <td>No</td>\n",
       "    </tr>\n",
       "    <tr>\n",
       "      <th>4</th>\n",
       "      <td>GSM1868165</td>\n",
       "      <td>58</td>\n",
       "      <td>52.494999</td>\n",
       "      <td>Female</td>\n",
       "      <td>11</td>\n",
       "      <td>No</td>\n",
       "      <td>8</td>\n",
       "      <td>3</td>\n",
       "      <td>22.9112426</td>\n",
       "      <td>No</td>\n",
       "      <td>30</td>\n",
       "      <td>5</td>\n",
       "      <td>Yes</td>\n",
       "      <td>No</td>\n",
       "      <td></td>\n",
       "    </tr>\n",
       "    <tr>\n",
       "      <th>...</th>\n",
       "      <td>...</td>\n",
       "      <td>...</td>\n",
       "      <td>...</td>\n",
       "      <td>...</td>\n",
       "      <td>...</td>\n",
       "      <td>...</td>\n",
       "      <td>...</td>\n",
       "      <td>...</td>\n",
       "      <td>...</td>\n",
       "      <td>...</td>\n",
       "      <td>...</td>\n",
       "      <td>...</td>\n",
       "      <td>...</td>\n",
       "      <td>...</td>\n",
       "      <td>...</td>\n",
       "    </tr>\n",
       "    <tr>\n",
       "      <th>385</th>\n",
       "      <td>GSM1868038</td>\n",
       "      <td>44</td>\n",
       "      <td>32.002359</td>\n",
       "      <td>Male</td>\n",
       "      <td></td>\n",
       "      <td>No</td>\n",
       "      <td></td>\n",
       "      <td>5</td>\n",
       "      <td></td>\n",
       "      <td>No</td>\n",
       "      <td>3</td>\n",
       "      <td></td>\n",
       "      <td>No</td>\n",
       "      <td>No</td>\n",
       "      <td>No</td>\n",
       "    </tr>\n",
       "    <tr>\n",
       "      <th>386</th>\n",
       "      <td>GSM1868227</td>\n",
       "      <td>22</td>\n",
       "      <td>28.106936</td>\n",
       "      <td>Female</td>\n",
       "      <td>12</td>\n",
       "      <td>No</td>\n",
       "      <td>9</td>\n",
       "      <td>3</td>\n",
       "      <td>21.50594724</td>\n",
       "      <td>No</td>\n",
       "      <td>17</td>\n",
       "      <td>7</td>\n",
       "      <td>Yes</td>\n",
       "      <td>No</td>\n",
       "      <td>No</td>\n",
       "    </tr>\n",
       "    <tr>\n",
       "      <th>387</th>\n",
       "      <td>GSM1868388</td>\n",
       "      <td>23</td>\n",
       "      <td>48.685240</td>\n",
       "      <td>Female</td>\n",
       "      <td>7</td>\n",
       "      <td>No</td>\n",
       "      <td>5</td>\n",
       "      <td>2</td>\n",
       "      <td>47.2031109</td>\n",
       "      <td>No</td>\n",
       "      <td>33</td>\n",
       "      <td>6</td>\n",
       "      <td>Yes</td>\n",
       "      <td>No</td>\n",
       "      <td>No</td>\n",
       "    </tr>\n",
       "    <tr>\n",
       "      <th>388</th>\n",
       "      <td>GSM1868263</td>\n",
       "      <td>53</td>\n",
       "      <td>49.380548</td>\n",
       "      <td>Male</td>\n",
       "      <td>12</td>\n",
       "      <td>No</td>\n",
       "      <td>9</td>\n",
       "      <td>3</td>\n",
       "      <td>36.28587657</td>\n",
       "      <td>No</td>\n",
       "      <td>26</td>\n",
       "      <td>4</td>\n",
       "      <td>No</td>\n",
       "      <td>No</td>\n",
       "      <td>No</td>\n",
       "    </tr>\n",
       "    <tr>\n",
       "      <th>389</th>\n",
       "      <td>GSM1868342</td>\n",
       "      <td>43</td>\n",
       "      <td>54.411054</td>\n",
       "      <td>Female</td>\n",
       "      <td>11</td>\n",
       "      <td>No</td>\n",
       "      <td>7</td>\n",
       "      <td>4</td>\n",
       "      <td>32.38682119</td>\n",
       "      <td>No</td>\n",
       "      <td>1</td>\n",
       "      <td>4</td>\n",
       "      <td>No</td>\n",
       "      <td>Yes</td>\n",
       "      <td>Yes</td>\n",
       "    </tr>\n",
       "  </tbody>\n",
       "</table>\n",
       "<p>390 rows × 15 columns</p>\n",
       "</div>"
      ],
      "text/plain": [
       "        ProbeID  age  DNAmAge_lasso     Sex cumulative life stress  \\\n",
       "0    GSM1946540   38      23.723887  Female                     --   \n",
       "1    GSM1868344   26      47.961063  Female                     10   \n",
       "2    GSM1868385   52      36.739640    Male                     11   \n",
       "3    GSM1868177   36      53.026931  Female                     11   \n",
       "4    GSM1868165   58      52.494999  Female                     11   \n",
       "..          ...  ...            ...     ...                    ...   \n",
       "385  GSM1868038   44      32.002359    Male                          \n",
       "386  GSM1868227   22      28.106936  Female                     12   \n",
       "387  GSM1868388   23      48.685240  Female                      7   \n",
       "388  GSM1868263   53      49.380548    Male                     12   \n",
       "389  GSM1868342   43      54.411054  Female                     11   \n",
       "\n",
       "    treatment for anxiety disorder personal life stress network life stress  \\\n",
       "0                               --                   --                  --   \n",
       "1                               No                    5                   5   \n",
       "2                               No                    8                   3   \n",
       "3                              Yes                    6                   5   \n",
       "4                               No                    8                   3   \n",
       "..                             ...                  ...                 ...   \n",
       "385                             No                                        5   \n",
       "386                             No                    9                   3   \n",
       "387                             No                    5                   2   \n",
       "388                             No                    9                   3   \n",
       "389                             No                    7                   4   \n",
       "\n",
       "    body mass index treatment for posttraumatic stress disorder  \\\n",
       "0       17.78569837                                         Yes   \n",
       "1       20.15979569                                          No   \n",
       "2       23.67932809                                          No   \n",
       "3       41.97368929                                          No   \n",
       "4        22.9112426                                          No   \n",
       "..              ...                                         ...   \n",
       "385                                                          No   \n",
       "386     21.50594724                                          No   \n",
       "387      47.2031109                                          No   \n",
       "388     36.28587657                                          No   \n",
       "389     32.38682119                                          No   \n",
       "\n",
       "    beck depression inventory total score current stress  \\\n",
       "0                                      31             --   \n",
       "1                                      11              4   \n",
       "2                                       5              7   \n",
       "3                                      11              6   \n",
       "4                                      30              5   \n",
       "..                                    ...            ...   \n",
       "385                                     3                  \n",
       "386                                    17              7   \n",
       "387                                    33              6   \n",
       "388                                    26              4   \n",
       "389                                     1              4   \n",
       "\n",
       "    childhood sexual physical abuse moderate to extreme  \\\n",
       "0                                                  Yes    \n",
       "1                                                  Yes    \n",
       "2                                                   No    \n",
       "3                                                  Yes    \n",
       "4                                                  Yes    \n",
       "..                                                 ...    \n",
       "385                                                 No    \n",
       "386                                                Yes    \n",
       "387                                                Yes    \n",
       "388                                                 No    \n",
       "389                                                 No    \n",
       "\n",
       "    treatment for bipolar disorder treatment for depression  \n",
       "0                               --                      Yes  \n",
       "1                               No                       No  \n",
       "2                               No                      Yes  \n",
       "3                               No                       No  \n",
       "4                               No                           \n",
       "..                             ...                      ...  \n",
       "385                             No                       No  \n",
       "386                             No                       No  \n",
       "387                             No                       No  \n",
       "388                             No                       No  \n",
       "389                            Yes                      Yes  \n",
       "\n",
       "[390 rows x 15 columns]"
      ]
     },
     "execution_count": 13,
     "metadata": {},
     "output_type": "execute_result"
    }
   ],
   "source": [
    "new_df"
   ]
  },
  {
   "cell_type": "markdown",
   "id": "58f95379",
   "metadata": {},
   "source": [
    "## Age 관련"
   ]
  },
  {
   "cell_type": "markdown",
   "id": "198ded1e",
   "metadata": {},
   "source": [
    "### 실제연령"
   ]
  },
  {
   "cell_type": "markdown",
   "id": "0dc69bac",
   "metadata": {},
   "source": [
    "####  형변환 및 분포확인"
   ]
  },
  {
   "cell_type": "code",
   "execution_count": 14,
   "id": "09ddad90",
   "metadata": {
    "ExecuteTime": {
     "end_time": "2023-08-26T20:35:40.515562Z",
     "start_time": "2023-08-26T20:35:40.508702Z"
    },
    "code_folding": [],
    "scrolled": false
   },
   "outputs": [
    {
     "name": "stderr",
     "output_type": "stream",
     "text": [
      "C:\\Users\\jyuma\\AppData\\Local\\Temp\\ipykernel_7472\\2160183582.py:2: SettingWithCopyWarning: \n",
      "A value is trying to be set on a copy of a slice from a DataFrame.\n",
      "Try using .loc[row_indexer,col_indexer] = value instead\n",
      "\n",
      "See the caveats in the documentation: https://pandas.pydata.org/pandas-docs/stable/user_guide/indexing.html#returning-a-view-versus-a-copy\n",
      "  new_df['age'] = pd.to_numeric(new_df['age'])\n"
     ]
    }
   ],
   "source": [
    "# 숫자형으로 age 변환.\n",
    "new_df['age'] = pd.to_numeric(new_df['age'])\n"
   ]
  },
  {
   "cell_type": "markdown",
   "id": "1805d4fe",
   "metadata": {},
   "source": [
    "#### 결측값 확인 "
   ]
  },
  {
   "cell_type": "code",
   "execution_count": 15,
   "id": "8e6b50dd",
   "metadata": {
    "ExecuteTime": {
     "end_time": "2023-08-26T20:35:43.177095Z",
     "start_time": "2023-08-26T20:35:43.169214Z"
    }
   },
   "outputs": [
    {
     "data": {
      "text/plain": [
       "0"
      ]
     },
     "execution_count": 15,
     "metadata": {},
     "output_type": "execute_result"
    }
   ],
   "source": [
    "new_df['age'].isna().sum()"
   ]
  },
  {
   "cell_type": "markdown",
   "id": "5889738e",
   "metadata": {},
   "source": [
    "### DNAmAge"
   ]
  },
  {
   "cell_type": "markdown",
   "id": "d69ce62a",
   "metadata": {},
   "source": [
    "#### 형변환 및 분포확인"
   ]
  },
  {
   "cell_type": "code",
   "execution_count": 16,
   "id": "fe953e2d",
   "metadata": {
    "ExecuteTime": {
     "end_time": "2023-08-26T20:36:30.703042Z",
     "start_time": "2023-08-26T20:36:30.483320Z"
    }
   },
   "outputs": [
    {
     "name": "stderr",
     "output_type": "stream",
     "text": [
      "C:\\Users\\jyuma\\AppData\\Local\\Temp\\ipykernel_7472\\707818486.py:1: SettingWithCopyWarning: \n",
      "A value is trying to be set on a copy of a slice from a DataFrame.\n",
      "Try using .loc[row_indexer,col_indexer] = value instead\n",
      "\n",
      "See the caveats in the documentation: https://pandas.pydata.org/pandas-docs/stable/user_guide/indexing.html#returning-a-view-versus-a-copy\n",
      "  new_df['DNAmAge_lasso'] = pd.to_numeric(new_df['DNAmAge_lasso'])\n"
     ]
    },
    {
     "data": {
      "text/plain": [
       "<Axes: ylabel='Frequency'>"
      ]
     },
     "execution_count": 16,
     "metadata": {},
     "output_type": "execute_result"
    },
    {
     "data": {
      "image/png": "[encoded data removed]",
      "text/plain": [
       "<Figure size 640x480 with 1 Axes>"
      ]
     },
     "metadata": {},
     "output_type": "display_data"
    }
   ],
   "source": [
    "new_df['DNAmAge_lasso'] = pd.to_numeric(new_df['DNAmAge_lasso'])\n",
    "\n",
    "\n",
    "\n",
    "new_df['DNAmAge_lasso'].plot(kind='hist')"
   ]
  },
  {
   "cell_type": "markdown",
   "id": "f89f4096",
   "metadata": {},
   "source": [
    "### 실제 연령 - DNA 메틸화 연령 컬럼 생성 "
   ]
  },
  {
   "cell_type": "markdown",
   "id": "45592216",
   "metadata": {},
   "source": [
    "age_diff를 정의한다. age_diff 는 실제 연령에서 DNA 메틸화 연령을 뺸 값을 의미하며 본 분석에서 age_diff라고 통칭한다."
   ]
  },
  {
   "cell_type": "code",
   "execution_count": 17,
   "id": "1790be3c",
   "metadata": {
    "ExecuteTime": {
     "end_time": "2023-08-26T20:37:15.351835Z",
     "start_time": "2023-08-26T20:37:15.344678Z"
    },
    "code_folding": [],
    "scrolled": true
   },
   "outputs": [
    {
     "name": "stderr",
     "output_type": "stream",
     "text": [
      "C:\\Users\\jyuma\\AppData\\Local\\Temp\\ipykernel_7472\\2344112862.py:2: SettingWithCopyWarning: \n",
      "A value is trying to be set on a copy of a slice from a DataFrame.\n",
      "Try using .loc[row_indexer,col_indexer] = value instead\n",
      "\n",
      "See the caveats in the documentation: https://pandas.pydata.org/pandas-docs/stable/user_guide/indexing.html#returning-a-view-versus-a-copy\n",
      "  new_df['age_diff'] = new_df['age'] - new_df['DNAmAge_lasso']\n"
     ]
    }
   ],
   "source": [
    "#age_diff 컬럼 정의 \n",
    "new_df['age_diff'] = new_df['age'] - new_df['DNAmAge_lasso']"
   ]
  },
  {
   "cell_type": "code",
   "execution_count": 18,
   "id": "3094f023",
   "metadata": {
    "ExecuteTime": {
     "end_time": "2023-08-26T20:38:18.624038Z",
     "start_time": "2023-08-26T20:38:18.616935Z"
    }
   },
   "outputs": [],
   "source": [
    "#분석의 편의를 위해 순서 재정의 \n",
    "new_df = new_df[['ProbeID','age','DNAmAge_lasso','age_diff','Sex','cumulative life stress',\n",
    "       'treatment for anxiety disorder', 'personal life stress','network life stress',\n",
    "       'body mass index', 'treatment for posttraumatic stress disorder',\n",
    "             'beck depression inventory total score','current stress',\n",
    "             'childhood sexual physical abuse moderate to extreme',\n",
    "             'treatment for bipolar disorder','treatment for depression']]\n",
    "             "
   ]
  },
  {
   "cell_type": "code",
   "execution_count": 19,
   "id": "28a496da",
   "metadata": {
    "ExecuteTime": {
     "end_time": "2023-08-26T20:38:20.603446Z",
     "start_time": "2023-08-26T20:38:20.596633Z"
    }
   },
   "outputs": [
    {
     "data": {
      "text/plain": [
       "Index(['ProbeID', 'age', 'DNAmAge_lasso', 'age_diff', 'Sex',\n",
       "       'cumulative life stress', 'treatment for anxiety disorder',\n",
       "       'personal life stress', 'network life stress', 'body mass index',\n",
       "       'treatment for posttraumatic stress disorder',\n",
       "       'beck depression inventory total score', 'current stress',\n",
       "       'childhood sexual physical abuse moderate to extreme',\n",
       "       'treatment for bipolar disorder', 'treatment for depression'],\n",
       "      dtype='object')"
      ]
     },
     "execution_count": 19,
     "metadata": {},
     "output_type": "execute_result"
    }
   ],
   "source": [
    "new_df.columns"
   ]
  },
  {
   "cell_type": "code",
   "execution_count": 20,
   "id": "14c941e9",
   "metadata": {
    "ExecuteTime": {
     "end_time": "2023-08-26T20:39:10.967445Z",
     "start_time": "2023-08-26T20:39:10.877275Z"
    },
    "scrolled": false
   },
   "outputs": [
    {
     "data": {
      "text/plain": [
       "<Axes: xlabel='age_diff', ylabel='Count'>"
      ]
     },
     "execution_count": 20,
     "metadata": {},
     "output_type": "execute_result"
    },
    {
     "data": {
      "image/png": "[encoded data removed]",
      "text/plain": [
       "<Figure size 640x480 with 1 Axes>"
      ]
     },
     "metadata": {},
     "output_type": "display_data"
    }
   ],
   "source": [
    "#히스토그램으로 대략적 분포 확인\n",
    "sns.histplot(new_df['age_diff'])"
   ]
  },
  {
   "cell_type": "code",
   "execution_count": 21,
   "id": "4df543ec",
   "metadata": {
    "ExecuteTime": {
     "end_time": "2023-08-26T20:39:22.134527Z",
     "start_time": "2023-08-26T20:39:22.086919Z"
    }
   },
   "outputs": [
    {
     "data": {
      "text/plain": [
       "<Axes: >"
      ]
     },
     "execution_count": 21,
     "metadata": {},
     "output_type": "execute_result"
    },
    {
     "data": {
      "image/png": "[encoded data removed]",
      "text/plain": [
       "<Figure size 640x480 with 1 Axes>"
      ]
     },
     "metadata": {},
     "output_type": "display_data"
    }
   ],
   "source": [
    "#boxplt\n",
    "sns.boxplot(new_df['age_diff'])\n"
   ]
  },
  {
   "cell_type": "code",
   "execution_count": 22,
   "id": "9d9f286d",
   "metadata": {
    "ExecuteTime": {
     "end_time": "2023-08-26T20:39:40.526587Z",
     "start_time": "2023-08-26T20:39:40.518553Z"
    }
   },
   "outputs": [],
   "source": [
    "#이상치 값들을 확인하기 위해 함수정의\n",
    "import numpy as np\n",
    "from collections import Counter\n",
    "\n",
    "def detect_outliers(new_df, n, features):\n",
    "    outlier_indices = []\n",
    "    for col in features:\n",
    "        Q1 = np.percentile(new_df[col], 25)\n",
    "        Q3 = np.percentile(new_df[col], 75)\n",
    "        IQR = Q3 - Q1\n",
    "        \n",
    "        outlier_step = 1.5 * IQR\n",
    "        \n",
    "        outlier_list_col = new_df[(new_df[col] < Q1 - outlier_step) | (new_df[col] > Q3 + outlier_step)].index\n",
    "        outlier_indices.extend(outlier_list_col)\n",
    "    outlier_indices = Counter(outlier_indices)\n",
    "    multiple_outliers = list(k for k, v in outlier_indices.items() if v > n)\n",
    "        \n",
    "    return multiple_outliers\n",
    "\n",
    "\n",
    "Outliers_to_drop = detect_outliers(new_df, 0, ['age_diff'])"
   ]
  },
  {
   "cell_type": "code",
   "execution_count": 23,
   "id": "821f4c05",
   "metadata": {
    "ExecuteTime": {
     "end_time": "2023-08-26T20:39:42.522749Z",
     "start_time": "2023-08-26T20:39:42.514557Z"
    }
   },
   "outputs": [
    {
     "data": {
      "text/html": [
       "<div>\n",
       "<style scoped>\n",
       "    .dataframe tbody tr th:only-of-type {\n",
       "        vertical-align: middle;\n",
       "    }\n",
       "\n",
       "    .dataframe tbody tr th {\n",
       "        vertical-align: top;\n",
       "    }\n",
       "\n",
       "    .dataframe thead th {\n",
       "        text-align: right;\n",
       "    }\n",
       "</style>\n",
       "<table border=\"1\" class=\"dataframe\">\n",
       "  <thead>\n",
       "    <tr style=\"text-align: right;\">\n",
       "      <th></th>\n",
       "      <th>ProbeID</th>\n",
       "      <th>age</th>\n",
       "      <th>DNAmAge_lasso</th>\n",
       "      <th>age_diff</th>\n",
       "      <th>Sex</th>\n",
       "      <th>cumulative life stress</th>\n",
       "      <th>treatment for anxiety disorder</th>\n",
       "      <th>personal life stress</th>\n",
       "      <th>network life stress</th>\n",
       "      <th>body mass index</th>\n",
       "      <th>treatment for posttraumatic stress disorder</th>\n",
       "      <th>beck depression inventory total score</th>\n",
       "      <th>current stress</th>\n",
       "      <th>childhood sexual physical abuse moderate to extreme</th>\n",
       "      <th>treatment for bipolar disorder</th>\n",
       "      <th>treatment for depression</th>\n",
       "    </tr>\n",
       "  </thead>\n",
       "  <tbody>\n",
       "    <tr>\n",
       "      <th>230</th>\n",
       "      <td>GSM1868259</td>\n",
       "      <td>19</td>\n",
       "      <td>65.474464</td>\n",
       "      <td>-46.474464</td>\n",
       "      <td>Female</td>\n",
       "      <td>8</td>\n",
       "      <td>No</td>\n",
       "      <td>6</td>\n",
       "      <td>2</td>\n",
       "      <td>26.38205464</td>\n",
       "      <td>No</td>\n",
       "      <td>8</td>\n",
       "      <td>2</td>\n",
       "      <td>No</td>\n",
       "      <td>No</td>\n",
       "      <td>No</td>\n",
       "    </tr>\n",
       "  </tbody>\n",
       "</table>\n",
       "</div>"
      ],
      "text/plain": [
       "        ProbeID  age  DNAmAge_lasso   age_diff     Sex cumulative life stress  \\\n",
       "230  GSM1868259   19      65.474464 -46.474464  Female                      8   \n",
       "\n",
       "    treatment for anxiety disorder personal life stress network life stress  \\\n",
       "230                             No                    6                   2   \n",
       "\n",
       "    body mass index treatment for posttraumatic stress disorder  \\\n",
       "230     26.38205464                                          No   \n",
       "\n",
       "    beck depression inventory total score current stress  \\\n",
       "230                                     8              2   \n",
       "\n",
       "    childhood sexual physical abuse moderate to extreme  \\\n",
       "230                                                 No    \n",
       "\n",
       "    treatment for bipolar disorder treatment for depression  \n",
       "230                             No                       No  "
      ]
     },
     "execution_count": 23,
     "metadata": {},
     "output_type": "execute_result"
    }
   ],
   "source": [
    "#이상치 행 출력 \n",
    "new_df.loc[Outliers_to_drop]"
   ]
  },
  {
   "cell_type": "markdown",
   "id": "a128356b",
   "metadata": {},
   "source": [
    "분석 결과에 따르면, IQR(Interquartile Range) 기준으로 판단했을 때 확인되는 이상치는 없음 "
   ]
  },
  {
   "cell_type": "markdown",
   "id": "98493fd6",
   "metadata": {},
   "source": [
    "## BDI"
   ]
  },
  {
   "cell_type": "markdown",
   "id": "e754ee86",
   "metadata": {
    "ExecuteTime": {
     "end_time": "2023-08-26T21:06:59.625317Z",
     "start_time": "2023-08-26T21:06:59.618726Z"
    }
   },
   "source": [
    "벡 우울척도(BDI·Beck Depression Inventory)는 어린이와 성인의 우울 정도를 측정하는 데 사용되는 21개의 객관식 질문으로 구성된 자가보고 설문지이다. 이 결과를 통해 우울 척도가 어느정도 되는지 판단할 수 있다.\n",
    "\n"
   ]
  },
  {
   "cell_type": "markdown",
   "id": "35b3b662",
   "metadata": {},
   "source": [
    "### 결측값 작업 및 형변환 "
   ]
  },
  {
   "cell_type": "code",
   "execution_count": 24,
   "id": "1d1b27c3",
   "metadata": {
    "ExecuteTime": {
     "end_time": "2023-08-26T20:59:43.235129Z",
     "start_time": "2023-08-26T20:59:43.227304Z"
    }
   },
   "outputs": [
    {
     "data": {
      "text/plain": [
       "array(['31', '11', '5', '30', '4', '6', '22', '15', '37', '3', '18', '40',\n",
       "       '50', '29', ' ', '17', '19', '35', '7', '21', '14', '1', '8', '0',\n",
       "       '2', '9', '--', '23', '55', '44', '10', '33', '13', '20', '25',\n",
       "       '24', '28', '43', '32', '42', '16', '27', '26', '12', '39', '38',\n",
       "       '34', '47', '41', '45', '36', '56', '58', '46'], dtype=object)"
      ]
     },
     "execution_count": 24,
     "metadata": {},
     "output_type": "execute_result"
    }
   ],
   "source": [
    "#결측값 확인 \n",
    "new_df['beck depression inventory total score'].unique()"
   ]
  },
  {
   "cell_type": "code",
   "execution_count": 25,
   "id": "5e50d929",
   "metadata": {
    "ExecuteTime": {
     "end_time": "2023-08-26T21:01:15.230478Z",
     "start_time": "2023-08-26T21:01:15.222752Z"
    }
   },
   "outputs": [
    {
     "name": "stderr",
     "output_type": "stream",
     "text": [
      "C:\\Users\\jyuma\\AppData\\Local\\Temp\\ipykernel_7472\\3939857866.py:2: SettingWithCopyWarning: \n",
      "A value is trying to be set on a copy of a slice from a DataFrame\n",
      "\n",
      "See the caveats in the documentation: https://pandas.pydata.org/pandas-docs/stable/user_guide/indexing.html#returning-a-view-versus-a-copy\n",
      "  new_df['beck depression inventory total score'].replace([' ', '--'], float('NaN'), inplace=True)\n"
     ]
    }
   ],
   "source": [
    "#미입력 데이터를 결측값으로 표기 \n",
    "new_df['beck depression inventory total score'].replace([' ', '--'], float('NaN'), inplace=True)"
   ]
  },
  {
   "cell_type": "code",
   "execution_count": 26,
   "id": "5f9cd933",
   "metadata": {
    "ExecuteTime": {
     "end_time": "2023-08-26T21:01:44.733148Z",
     "start_time": "2023-08-26T21:01:44.724743Z"
    }
   },
   "outputs": [],
   "source": [
    "#결측값 제거 \n",
    "filtered_BDI_df = new_df.dropna(subset=['beck depression inventory total score'])"
   ]
  },
  {
   "cell_type": "code",
   "execution_count": 27,
   "id": "b2e8a075",
   "metadata": {
    "ExecuteTime": {
     "end_time": "2023-08-26T21:04:32.707824Z",
     "start_time": "2023-08-26T21:04:32.700730Z"
    }
   },
   "outputs": [
    {
     "name": "stderr",
     "output_type": "stream",
     "text": [
      "C:\\Users\\jyuma\\AppData\\Local\\Temp\\ipykernel_7472\\2514767745.py:2: SettingWithCopyWarning: \n",
      "A value is trying to be set on a copy of a slice from a DataFrame.\n",
      "Try using .loc[row_indexer,col_indexer] = value instead\n",
      "\n",
      "See the caveats in the documentation: https://pandas.pydata.org/pandas-docs/stable/user_guide/indexing.html#returning-a-view-versus-a-copy\n",
      "  filtered_BDI_df['beck depression inventory total score'] = pd.to_numeric(filtered_BDI_df['beck depression inventory total score'])\n"
     ]
    }
   ],
   "source": [
    "#숫자형으로 변환 \n",
    "filtered_BDI_df['beck depression inventory total score'] = pd.to_numeric(filtered_BDI_df['beck depression inventory total score'])"
   ]
  },
  {
   "cell_type": "markdown",
   "id": "a323a6b4",
   "metadata": {},
   "source": [
    "### 집단 분할 "
   ]
  },
  {
   "cell_type": "markdown",
   "id": "d7959ab1",
   "metadata": {
    "ExecuteTime": {
     "end_time": "2023-08-26T21:09:55.399660Z",
     "start_time": "2023-08-26T21:09:55.393687Z"
    }
   },
   "source": [
    "http://www.youthclinic.org/sub6_3.php\n",
    "\n",
    "\n",
    "서울대학교병원 청년클리닉 점수에 따르면 16점 이상으로는 중증도 우울과 더 나아가면 심한 우울에 해당한다. 따라서 집단을 BDI 점수가 16점 미만과 16점 이상으로 분할하였다."
   ]
  },
  {
   "cell_type": "code",
   "execution_count": 28,
   "id": "b122272f",
   "metadata": {
    "ExecuteTime": {
     "end_time": "2023-08-26T21:11:54.664056Z",
     "start_time": "2023-08-26T21:11:54.656465Z"
    }
   },
   "outputs": [],
   "source": [
    "BDI_below_16 = filtered_BDI_df[filtered_BDI_df['beck depression inventory total score'] < 16]\n",
    "BDI_above_or_equal_16 = filtered_BDI_df[filtered_BDI_df['beck depression inventory total score'] >= 20]\n"
   ]
  },
  {
   "cell_type": "markdown",
   "id": "17530faf",
   "metadata": {},
   "source": [
    "### 분할된 집단에 따른 age_diff 시각화"
   ]
  },
  {
   "cell_type": "code",
   "execution_count": 29,
   "id": "ba653bbe",
   "metadata": {
    "ExecuteTime": {
     "end_time": "2023-08-26T21:28:18.111613Z",
     "start_time": "2023-08-26T21:28:17.960425Z"
    }
   },
   "outputs": [
    {
     "data": {
      "image/png": "[encoded data removed]",
      "text/plain": [
       "<Figure size 1000x600 with 1 Axes>"
      ]
     },
     "metadata": {},
     "output_type": "display_data"
    }
   ],
   "source": [
    "import matplotlib.pyplot as plt\n",
    "from scipy.stats import gaussian_kde\n",
    "\n",
    "plt.figure(figsize=(10, 6))\n",
    "\n",
    "#kde함수를 통해 데이터셋정의 \n",
    "density_BDI_below_16 = gaussian_kde(BDI_below_16['age_diff'])\n",
    "density_BDI_above_or_equal_16 = gaussian_kde(BDI_above_or_equal_16['age_diff'])\n",
    "\n",
    "# 데이터셋 범위 지정(최소에서 최대)\n",
    "x = np.linspace(min(BDI_below_16['age_diff'].min(), BDI_above_or_equal_16['age_diff'].min()), \n",
    "                max(BDI_below_16['age_diff'].max(), BDI_above_or_equal_16['age_diff'].max()), 100)\n",
    "\n",
    "# 시각화 수행 \n",
    "plt.plot(x, density_BDI_below_16(x), label='BDI_below_16')\n",
    "plt.plot(x, density_BDI_above_or_equal_16(x), label='BDI_above_or_equal_16')\n",
    "\n",
    "plt.legend(loc='upper right')\n",
    "plt.title('Age Difference Distribution')\n",
    "plt.xlabel('Age Difference')\n",
    "plt.ylabel('Density')\n",
    "\n",
    "plt.show()\n"
   ]
  },
  {
   "cell_type": "markdown",
   "id": "aaae081d",
   "metadata": {},
   "source": [
    "두 그래프는 육안상으로는 어느정도 정규분포를 띄고 있다. "
   ]
  },
  {
   "cell_type": "markdown",
   "id": "a02d3515",
   "metadata": {},
   "source": [
    "# 검정 ( 두 집단의 age_diff가 차이가 있는가? )"
   ]
  },
  {
   "cell_type": "markdown",
   "id": "fee78e8b",
   "metadata": {},
   "source": [
    "## 두 집단의 평균이 차이가 있는가?"
   ]
  },
  {
   "cell_type": "markdown",
   "id": "95c71862",
   "metadata": {},
   "source": [
    "### Shpiro-wilk Test"
   ]
  },
  {
   "cell_type": "markdown",
   "id": "bafd376c",
   "metadata": {},
   "source": [
    "앞선 시각화에서 데이터가 정규분포를 가정하는지 검정하기 전에 시각화를 해보았다. 이번엔 Shapiro-Wilk Test를 통해 p-value값을 확인해 본다. "
   ]
  },
  {
   "cell_type": "markdown",
   "id": "26a4ad09",
   "metadata": {
    "ExecuteTime": {
     "end_time": "2023-08-26T21:41:24.268715Z",
     "start_time": "2023-08-26T21:41:24.262351Z"
    }
   },
   "source": [
    "Shapiro-Wilk 테스트는 데이터가 정규 분포를 따르는지 아닌지를 검증하는 통계적 방법이다.이 테스트의 귀무 가설은 \"주어진 데이터 샘플이 정규 분포를 따르는가\"이고, 대립 가설은 \"주어진 데이터 샘플이 정규 분포를 따르지 않는가\"이다.\n",
    "\n",
    "테스트 결과로 도출된 p-value 값에 따라 데이터의 분포를 확인하는데, p-value가 0.05보다 크면 데이터가 정규 분포를 따르는 것으로 해석된다. 반면, p-value가 0.05보다 작으면 데이터가 정규 분포를 따르지 않는 것으로 간주된다."
   ]
  },
  {
   "cell_type": "code",
   "execution_count": 30,
   "id": "73149e6e",
   "metadata": {
    "ExecuteTime": {
     "end_time": "2023-08-26T21:31:30.867297Z",
     "start_time": "2023-08-26T21:31:30.858687Z"
    }
   },
   "outputs": [
    {
     "name": "stdout",
     "output_type": "stream",
     "text": [
      "BDI_below_16: statistic=0.9855731725692749, p-value=0.04557966813445091\n",
      "BDI_above_or_equal_16: statistic=0.9890974164009094, p-value=0.4447697699069977\n"
     ]
    }
   ],
   "source": [
    "from scipy import stats\n",
    "\n",
    "# BDI_below_16 data\n",
    "statistic, p_value = stats.shapiro(BDI_below_16['age_diff'])\n",
    "print(f\"BDI_below_16: statistic={statistic}, p-value={p_value}\")\n",
    "\n",
    "# BDI_above_or_equal_16 data\n",
    "statistic, p_value = stats.shapiro(BDI_above_or_equal_16['age_diff'])\n",
    "print(f\"BDI_above_or_equal_16: statistic={statistic}, p-value={p_value}\")\n"
   ]
  },
  {
   "cell_type": "markdown",
   "id": "30b4f9ba",
   "metadata": {},
   "source": [
    "두 데이터셋 모두 p-value가  0.05보다 크므로 데이터가 정규분포를 따른다는 귀무가설을 기각하지 못한다. 따라서 두 집단 모두 'age_diff'에 있어선 정규분포를 따른다."
   ]
  },
  {
   "cell_type": "markdown",
   "id": "7753c719",
   "metadata": {},
   "source": [
    "### Levene's test  "
   ]
  },
  {
   "cell_type": "markdown",
   "id": "4a3d3469",
   "metadata": {},
   "source": [
    "데이터가 정규 분포를 따르므로 독립 표본 t-검정(independent two-sample t-test)을 사용하여 두 집단 간의 차이를 검증할 수 있다. 하지만 이 검정은 두 집단의 분산이 같다는 등분산성 가정을 필요로 하므로, 검증 작업에 들어가기 전에 등분산성을 확인한다."
   ]
  },
  {
   "cell_type": "markdown",
   "id": "e7fb8995",
   "metadata": {},
   "source": [
    "Levene의 검정은 두 개 이상의 그룹 간 분산의 동질성, 즉 등분산성을 검정하는 통계적 방법이다. \n",
    "\n",
    "Levene의 검정에서 귀무 가설(H0)은 \"모든 그룹의 분산이 동일하다\"는 것이다. 반면, 대립 가설(H1)은 \"적어도 한 그룹의 분산이 다른 그룹과 다르다\"는 것이다.\n",
    "\n",
    "Levene의 검정은 p-value 값을 반환한다. 일반적으로 p-value가 0.05보다 크면 귀무 가설을 기각하지 않는다. 즉, 모든 그룹이 등분산성을 만족한다고 판단할 수 있다.\n",
    "\n",
    "하지만 p-value가 0.05보다 작으면 귀무 가설을 기각하고, 대립 가설을 수용한다. 이 경우, 적어도 한 그룹이 다른 그룹과 분산이 다르며 등분산성을 만족하지 않는 것으로 판단된다."
   ]
  },
  {
   "cell_type": "code",
   "execution_count": 31,
   "id": "7400363e",
   "metadata": {
    "ExecuteTime": {
     "end_time": "2023-08-26T21:40:23.373421Z",
     "start_time": "2023-08-26T21:40:23.365585Z"
    }
   },
   "outputs": [
    {
     "name": "stdout",
     "output_type": "stream",
     "text": [
      "statistic=0.25980344521309895, p-value=0.6106144159946927\n"
     ]
    }
   ],
   "source": [
    "from scipy import stats\n",
    "\n",
    "# Levene's test for equal variances\n",
    "statistic, p_value = stats.levene(BDI_below_16['age_diff'], BDI_above_or_equal_16['age_diff'])\n",
    "\n",
    "print(f\"statistic={statistic}, p-value={p_value}\")\n"
   ]
  },
  {
   "cell_type": "markdown",
   "id": "d2ef96f9",
   "metadata": {},
   "source": [
    "p-value 가 0.05 보다 크다. 따라서 두 집단이 등분산성을 가진다는 것을 확인할 수 있다. "
   ]
  },
  {
   "cell_type": "markdown",
   "id": "3630fb30",
   "metadata": {},
   "source": [
    "### Independent two-sample t-test"
   ]
  },
  {
   "cell_type": "markdown",
   "id": "016ecc64",
   "metadata": {},
   "source": [
    "정규분포를 따르는지 확인했고 등분산성을 가진다는 것을 확인했으므로  Independent two-sample t-test을 수행함으로써 두 집단이 과연 평균이 차이가 있는지 확인한다. "
   ]
  },
  {
   "cell_type": "markdown",
   "id": "7ce05f05",
   "metadata": {
    "ExecuteTime": {
     "end_time": "2023-08-26T21:44:26.350975Z",
     "start_time": "2023-08-26T21:44:26.341645Z"
    }
   },
   "source": [
    "독립 표본 t-검정(Independent two-sample t-test)은 두 독립적인 그룹 간의 평균 차이가 통계적으로 유의미한지를 검정하는 방법이다. 이 방법은 주로 두 집단의 평균을 비교할 때 사용된다.\n",
    "\n",
    "독립 표본 t-검정에서 귀무 가설(H0)은 \"두 그룹의 모평균이 동일하다\"는 것이다. 반면, 대립 가설(H1)은 \"두 그룹의 모평균이 다르다\"는 것이다.\n",
    "\n",
    "독립 표본 t-검정은 p-value 값을 반환한다. 일반적으로 p-value가 0.05보다 크면 귀무 가설을 기각하지 않는다. 즉, 두 그룹의 평균에 차이가 없다고 판단할 수 있다.\n",
    "\n",
    "하지만 p-value가 0.05보다 작으면 귀무 가설을 기각하고, 대립 가설을 수용한다. 이 경우, 두 그룹 간에 평균 차이가 통계적으로 유의미하게 다르다고 판단된다."
   ]
  },
  {
   "cell_type": "code",
   "execution_count": 32,
   "id": "caa05502",
   "metadata": {
    "ExecuteTime": {
     "end_time": "2023-08-26T21:44:34.850490Z",
     "start_time": "2023-08-26T21:44:34.843133Z"
    }
   },
   "outputs": [
    {
     "name": "stdout",
     "output_type": "stream",
     "text": [
      "statistic=0.5121879651137919, p-value=0.6088806727515061\n"
     ]
    }
   ],
   "source": [
    "from scipy import stats\n",
    "\n",
    "# Independent two-sample t-test\n",
    "statistic, p_value = stats.ttest_ind(BDI_below_16['age_diff'], BDI_above_or_equal_16['age_diff'])\n",
    "\n",
    "print(f\"statistic={statistic}, p-value={p_value}\")\n"
   ]
  },
  {
   "cell_type": "markdown",
   "id": "df9015d4",
   "metadata": {},
   "source": [
    "p-value가 0.05보다 크므로, 귀무 가설을 기각하지 않는다. 즉, 두 그룹 간에 통계적으로 유의미한 평균 차이가 없음을 의미한다. 다시 말해, 이 검정 결과에 따르면 두 그룹의 평균은 동일하다고 볼 수 있다."
   ]
  },
  {
   "cell_type": "markdown",
   "id": "ea24d26c",
   "metadata": {},
   "source": [
    "## 상관관계가 있는가? "
   ]
  },
  {
   "cell_type": "markdown",
   "id": "c8752053",
   "metadata": {},
   "source": [
    "### Pearson Correlation Coefficient "
   ]
  },
  {
   "cell_type": "markdown",
   "id": "1e0bd122",
   "metadata": {},
   "source": [
    "피어슨 상관 계수는 코시-슈바르츠 부등식에 의해 +1과 -1 사이의 값을 가지며, +1은 완벽한 양의 선형 상관 관계, 0은 선형 상관 관계 없음, -1은 완벽한 음의 선형 상관 관계를 의미한다."
   ]
  },
  {
   "cell_type": "code",
   "execution_count": 33,
   "id": "842b71c3",
   "metadata": {
    "ExecuteTime": {
     "end_time": "2023-08-26T21:51:31.278668Z",
     "start_time": "2023-08-26T21:51:31.264542Z"
    }
   },
   "outputs": [
    {
     "name": "stdout",
     "output_type": "stream",
     "text": [
      "Correlation between BDI and age_diff is -0.0197715987048192\n"
     ]
    }
   ],
   "source": [
    "\n",
    "# Assuming that data is a DataFrame and BDI and age_diff are columns in it\n",
    "correlation = filtered_BDI_df['beck depression inventory total score'].corr(filtered_BDI_df['age_diff'])\n",
    "\n",
    "print(f\"Correlation between BDI and age_diff is {correlation}\")\n"
   ]
  },
  {
   "cell_type": "markdown",
   "id": "ee950865",
   "metadata": {},
   "source": [
    "상관 계수는 -0.024로, BDI와 age_diff 사이에는 약한 음의 상관 관계가 있다고 볼 수 있다.\n",
    "\n",
    "하지만 이 값은 매우 작으므로, 실질적으로 BDI와 age_diff 사이에는 거의 연관성이 없다고 해석할 수 있다. 즉, BDI 점수의 변화가 age_diff의 변화를 크게 설명하지 못한다.\n",
    "\n",
    "따라서 이 결과를 바탕으로 볼 때, BDI가 age_diff에 유의미한 영향을 미치지 않는다고 할 수 있다. 하지만 이러한 결론은 현재 사용된 데이터와 분석 방법에 국한된 것이며, 다른 변수들을 고려하거나 다른 분석 방법을 사용하면 다른 결과를 얻을 수 있음을 유념해야 한다."
   ]
  },
  {
   "cell_type": "code",
   "execution_count": null,
   "id": "a6412457",
   "metadata": {},
   "outputs": [],
   "source": []
  },
  {
   "cell_type": "code",
   "execution_count": null,
   "id": "4bf2db9a",
   "metadata": {},
   "outputs": [],
   "source": []
  }
 ],
 "metadata": {
  "kernelspec": {
   "display_name": "Python 3 (ipykernel)",
   "language": "python",
   "name": "python3"
  },
  "language_info": {
   "codemirror_mode": {
    "name": "ipython",
    "version": 3
   },
   "file_extension": ".py",
   "mimetype": "text/x-python",
   "name": "python",
   "nbconvert_exporter": "python",
   "pygments_lexer": "ipython3",
   "version": "3.11.3"
  },
  "toc": {
   "base_numbering": 1,
   "nav_menu": {},
   "number_sections": true,
   "sideBar": true,
   "skip_h1_title": false,
   "title_cell": "Table of Contents",
   "title_sidebar": "Contents",
   "toc_cell": false,
   "toc_position": {},
   "toc_section_display": true,
   "toc_window_display": false
  },
  "varInspector": {
   "cols": {
    "lenName": 16,
    "lenType": 16,
    "lenVar": 40
   },
   "kernels_config": {
    "python": {
     "delete_cmd_postfix": "",
     "delete_cmd_prefix": "del ",
     "library": "var_list.py",
     "varRefreshCmd": "print(var_dic_list())"
    },
    "r": {
     "delete_cmd_postfix": ") ",
     "delete_cmd_prefix": "rm(",
     "library": "var_list.r",
     "varRefreshCmd": "cat(var_dic_list()) "
    }
   },
   "types_to_exclude": [
    "module",
    "function",
    "builtin_function_or_method",
    "instance",
    "_Feature"
   ],
   "window_display": false
  }
 },
 "nbformat": 4,
 "nbformat_minor": 5
}
